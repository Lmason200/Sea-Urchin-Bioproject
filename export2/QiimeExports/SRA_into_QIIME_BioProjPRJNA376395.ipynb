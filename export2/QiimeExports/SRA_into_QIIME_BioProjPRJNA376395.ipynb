{
 "cells": [
  {
   "cell_type": "markdown",
   "metadata": {},
   "source": [
    "# Importing SRA files into QIIME2, for Lenee's Project"
   ]
  },
  {
   "cell_type": "markdown",
   "metadata": {},
   "source": [
    "Using data from [BioProject# PRJNA376395](https://www.ncbi.nlm.nih.gov/bioproject/?term=PRJNA376395).\n",
    "\n",
    "Lenee sent me a list of SRA numbers. I put these in text file, `SraAccList.txt`"
   ]
  },
  {
   "cell_type": "code",
   "execution_count": 1,
   "metadata": {},
   "outputs": [
    {
     "name": "stdout",
     "output_type": "stream",
     "text": [
      "SRR5280709 SRR5280710 SRR5280711 SRR5280712 SRR5280713 SRR5280714 SRR5280715 SRR5280716 SRR5280717 SRR5280718 SRR5280719 SRR5280720 SRR5280721 SRR5280722 SRR5280723 SRR5280724 SRR5280725 SRR5280726 SRR5280727 SRR5280728 SRR5280729 SRR5280730 SRR5280731 SRR5280732 SRR5280733 SRR5280734 SRR5280735 SRR5280736 SRR5280737 SRR5280738 SRR5280739 SRR5280740 SRR5280741 SRR5280742 SRR5280743 SRR5280744 SRR5280745 SRR5280746 SRR5280747 SRR5280748 SRR5280749 SRR5280750 SRR5280751 SRR5280752 SRR5280753 SRR5280754 SRR5280755"
     ]
    }
   ],
   "source": [
    "tr '\\n' ' ' < SraAccList.txt"
   ]
  },
  {
   "cell_type": "markdown",
   "metadata": {},
   "source": [
    "Next you can copy and paste the output SRA file names from in order to run `fastq-dump`"
   ]
  },
  {
   "cell_type": "code",
   "execution_count": 2,
   "metadata": {},
   "outputs": [],
   "source": [
    "mkdir raw_data"
   ]
  },
  {
   "cell_type": "code",
   "execution_count": 3,
   "metadata": {},
   "outputs": [],
   "source": [
    "cd raw_data"
   ]
  },
  {
   "cell_type": "code",
   "execution_count": 4,
   "metadata": {},
   "outputs": [
    {
     "name": "stdout",
     "output_type": "stream",
     "text": [
      "/Volumes/MyPassport/Molloy_LargeFiles/Semesters/03_Summer2020/CSTEP/Lenee/BioProjectPRJNA376395/raw_data\n"
     ]
    }
   ],
   "source": [
    "pwd"
   ]
  },
  {
   "cell_type": "code",
   "execution_count": 5,
   "metadata": {},
   "outputs": [
    {
     "name": "stdout",
     "output_type": "stream",
     "text": [
      "Read 120568 spots for SRR5280709\n",
      "Written 120568 spots for SRR5280709\n",
      "Read 146902 spots for SRR5280710\n",
      "Written 146902 spots for SRR5280710\n",
      "Read 243383 spots for SRR5280711\n",
      "Written 243383 spots for SRR5280711\n",
      "Read 221105 spots for SRR5280712\n",
      "Written 221105 spots for SRR5280712\n",
      "Read 246807 spots for SRR5280713\n",
      "Written 246807 spots for SRR5280713\n",
      "Read 258947 spots for SRR5280714\n",
      "Written 258947 spots for SRR5280714\n",
      "Read 297299 spots for SRR5280715\n",
      "Written 297299 spots for SRR5280715\n",
      "Read 257650 spots for SRR5280716\n",
      "Written 257650 spots for SRR5280716\n",
      "Read 209154 spots for SRR5280717\n",
      "Written 209154 spots for SRR5280717\n",
      "Read 197245 spots for SRR5280718\n",
      "Written 197245 spots for SRR5280718\n",
      "Read 191890 spots for SRR5280719\n",
      "Written 191890 spots for SRR5280719\n",
      "Read 198221 spots for SRR5280720\n",
      "Written 198221 spots for SRR5280720\n",
      "Read 170892 spots for SRR5280721\n",
      "Written 170892 spots for SRR5280721\n",
      "Read 135139 spots for SRR5280722\n",
      "Written 135139 spots for SRR5280722\n",
      "Read 196543 spots for SRR5280723\n",
      "Written 196543 spots for SRR5280723\n",
      "Read 172824 spots for SRR5280724\n",
      "Written 172824 spots for SRR5280724\n",
      "Read 161549 spots for SRR5280725\n",
      "Written 161549 spots for SRR5280725\n",
      "Read 176086 spots for SRR5280726\n",
      "Written 176086 spots for SRR5280726\n",
      "Read 200634 spots for SRR5280727\n",
      "Written 200634 spots for SRR5280727\n",
      "Read 105507 spots for SRR5280728\n",
      "Written 105507 spots for SRR5280728\n",
      "Read 80865 spots for SRR5280729\n",
      "Written 80865 spots for SRR5280729\n",
      "Read 68135 spots for SRR5280730\n",
      "Written 68135 spots for SRR5280730\n",
      "Read 243202 spots for SRR5280731\n",
      "Written 243202 spots for SRR5280731\n",
      "Read 258673 spots for SRR5280732\n",
      "Written 258673 spots for SRR5280732\n",
      "Read 90116 spots for SRR5280733\n",
      "Written 90116 spots for SRR5280733\n",
      "Read 161323 spots for SRR5280734\n",
      "Written 161323 spots for SRR5280734\n",
      "Read 142275 spots for SRR5280735\n",
      "Written 142275 spots for SRR5280735\n",
      "Read 170639 spots for SRR5280736\n",
      "Written 170639 spots for SRR5280736\n",
      "Read 261810 spots for SRR5280737\n",
      "Written 261810 spots for SRR5280737\n",
      "Read 228931 spots for SRR5280738\n",
      "Written 228931 spots for SRR5280738\n",
      "Read 175036 spots for SRR5280739\n",
      "Written 175036 spots for SRR5280739\n",
      "Read 166724 spots for SRR5280740\n",
      "Written 166724 spots for SRR5280740\n",
      "Read 129170 spots for SRR5280741\n",
      "Written 129170 spots for SRR5280741\n",
      "Read 143405 spots for SRR5280742\n",
      "Written 143405 spots for SRR5280742\n",
      "Read 150381 spots for SRR5280743\n",
      "Written 150381 spots for SRR5280743\n",
      "Read 161140 spots for SRR5280744\n",
      "Written 161140 spots for SRR5280744\n",
      "Read 171494 spots for SRR5280745\n",
      "Written 171494 spots for SRR5280745\n",
      "Read 208052 spots for SRR5280746\n",
      "Written 208052 spots for SRR5280746\n",
      "Read 168524 spots for SRR5280747\n",
      "Written 168524 spots for SRR5280747\n",
      "Read 127480 spots for SRR5280748\n",
      "Written 127480 spots for SRR5280748\n",
      "Read 163851 spots for SRR5280749\n",
      "Written 163851 spots for SRR5280749\n",
      "Read 144052 spots for SRR5280750\n",
      "Written 144052 spots for SRR5280750\n",
      "Read 198874 spots for SRR5280751\n",
      "Written 198874 spots for SRR5280751\n",
      "Read 141180 spots for SRR5280752\n",
      "Written 141180 spots for SRR5280752\n",
      "Read 229380 spots for SRR5280753\n",
      "Written 229380 spots for SRR5280753\n",
      "Read 146777 spots for SRR5280754\n",
      "Written 146777 spots for SRR5280754\n",
      "Read 118606 spots for SRR5280755\n",
      "Written 118606 spots for SRR5280755\n",
      "Read 8358440 spots total\n",
      "Written 8358440 spots total\n"
     ]
    }
   ],
   "source": [
    "fastq-dump --split-files SRR5280709 SRR5280710 SRR5280711 SRR5280712 SRR5280713 SRR5280714 SRR5280715 SRR5280716 SRR5280717 SRR5280718 SRR5280719 SRR5280720 SRR5280721 SRR5280722 SRR5280723 SRR5280724 SRR5280725 SRR5280726 SRR5280727 SRR5280728 SRR5280729 SRR5280730 SRR5280731 SRR5280732 SRR5280733 SRR5280734 SRR5280735 SRR5280736 SRR5280737 SRR5280738 SRR5280739 SRR5280740 SRR5280741 SRR5280742 SRR5280743 SRR5280744 SRR5280745 SRR5280746 SRR5280747 SRR5280748 SRR5280749 SRR5280750 SRR5280751 SRR5280752 SRR5280753 SRR5280754 SRR5280755"
   ]
  },
  {
   "cell_type": "code",
   "execution_count": 6,
   "metadata": {},
   "outputs": [
    {
     "name": "stdout",
     "output_type": "stream",
     "text": [
      "SRR5280709_1.fastq\tSRR5280725_1.fastq\tSRR5280741_1.fastq\n",
      "SRR5280709_2.fastq\tSRR5280725_2.fastq\tSRR5280741_2.fastq\n",
      "SRR5280710_1.fastq\tSRR5280726_1.fastq\tSRR5280742_1.fastq\n",
      "SRR5280710_2.fastq\tSRR5280726_2.fastq\tSRR5280742_2.fastq\n",
      "SRR5280711_1.fastq\tSRR5280727_1.fastq\tSRR5280743_1.fastq\n",
      "SRR5280711_2.fastq\tSRR5280727_2.fastq\tSRR5280743_2.fastq\n",
      "SRR5280712_1.fastq\tSRR5280728_1.fastq\tSRR5280744_1.fastq\n",
      "SRR5280712_2.fastq\tSRR5280728_2.fastq\tSRR5280744_2.fastq\n",
      "SRR5280713_1.fastq\tSRR5280729_1.fastq\tSRR5280745_1.fastq\n",
      "SRR5280713_2.fastq\tSRR5280729_2.fastq\tSRR5280745_2.fastq\n",
      "SRR5280714_1.fastq\tSRR5280730_1.fastq\tSRR5280746_1.fastq\n",
      "SRR5280714_2.fastq\tSRR5280730_2.fastq\tSRR5280746_2.fastq\n",
      "SRR5280715_1.fastq\tSRR5280731_1.fastq\tSRR5280747_1.fastq\n",
      "SRR5280715_2.fastq\tSRR5280731_2.fastq\tSRR5280747_2.fastq\n",
      "SRR5280716_1.fastq\tSRR5280732_1.fastq\tSRR5280748_1.fastq\n",
      "SRR5280716_2.fastq\tSRR5280732_2.fastq\tSRR5280748_2.fastq\n",
      "SRR5280717_1.fastq\tSRR5280733_1.fastq\tSRR5280749_1.fastq\n",
      "SRR5280717_2.fastq\tSRR5280733_2.fastq\tSRR5280749_2.fastq\n",
      "SRR5280718_1.fastq\tSRR5280734_1.fastq\tSRR5280750_1.fastq\n",
      "SRR5280718_2.fastq\tSRR5280734_2.fastq\tSRR5280750_2.fastq\n",
      "SRR5280719_1.fastq\tSRR5280735_1.fastq\tSRR5280751_1.fastq\n",
      "SRR5280719_2.fastq\tSRR5280735_2.fastq\tSRR5280751_2.fastq\n",
      "SRR5280720_1.fastq\tSRR5280736_1.fastq\tSRR5280752_1.fastq\n",
      "SRR5280720_2.fastq\tSRR5280736_2.fastq\tSRR5280752_2.fastq\n",
      "SRR5280721_1.fastq\tSRR5280737_1.fastq\tSRR5280753_1.fastq\n",
      "SRR5280721_2.fastq\tSRR5280737_2.fastq\tSRR5280753_2.fastq\n",
      "SRR5280722_1.fastq\tSRR5280738_1.fastq\tSRR5280754_1.fastq\n",
      "SRR5280722_2.fastq\tSRR5280738_2.fastq\tSRR5280754_2.fastq\n",
      "SRR5280723_1.fastq\tSRR5280739_1.fastq\tSRR5280755_1.fastq\n",
      "SRR5280723_2.fastq\tSRR5280739_2.fastq\tSRR5280755_2.fastq\n",
      "SRR5280724_1.fastq\tSRR5280740_1.fastq\n",
      "SRR5280724_2.fastq\tSRR5280740_2.fastq\n"
     ]
    }
   ],
   "source": [
    "ls "
   ]
  },
  {
   "cell_type": "markdown",
   "metadata": {},
   "source": [
    "Next, zip the files"
   ]
  },
  {
   "cell_type": "code",
   "execution_count": 7,
   "metadata": {},
   "outputs": [],
   "source": [
    "gzip *.fastq"
   ]
  },
  {
   "cell_type": "code",
   "execution_count": 8,
   "metadata": {},
   "outputs": [
    {
     "name": "stdout",
     "output_type": "stream",
     "text": [
      "SRR5280709_1.fastq.gz\tSRR5280725_1.fastq.gz\tSRR5280741_1.fastq.gz\n",
      "SRR5280709_2.fastq.gz\tSRR5280725_2.fastq.gz\tSRR5280741_2.fastq.gz\n",
      "SRR5280710_1.fastq.gz\tSRR5280726_1.fastq.gz\tSRR5280742_1.fastq.gz\n",
      "SRR5280710_2.fastq.gz\tSRR5280726_2.fastq.gz\tSRR5280742_2.fastq.gz\n",
      "SRR5280711_1.fastq.gz\tSRR5280727_1.fastq.gz\tSRR5280743_1.fastq.gz\n",
      "SRR5280711_2.fastq.gz\tSRR5280727_2.fastq.gz\tSRR5280743_2.fastq.gz\n",
      "SRR5280712_1.fastq.gz\tSRR5280728_1.fastq.gz\tSRR5280744_1.fastq.gz\n",
      "SRR5280712_2.fastq.gz\tSRR5280728_2.fastq.gz\tSRR5280744_2.fastq.gz\n",
      "SRR5280713_1.fastq.gz\tSRR5280729_1.fastq.gz\tSRR5280745_1.fastq.gz\n",
      "SRR5280713_2.fastq.gz\tSRR5280729_2.fastq.gz\tSRR5280745_2.fastq.gz\n",
      "SRR5280714_1.fastq.gz\tSRR5280730_1.fastq.gz\tSRR5280746_1.fastq.gz\n",
      "SRR5280714_2.fastq.gz\tSRR5280730_2.fastq.gz\tSRR5280746_2.fastq.gz\n",
      "SRR5280715_1.fastq.gz\tSRR5280731_1.fastq.gz\tSRR5280747_1.fastq.gz\n",
      "SRR5280715_2.fastq.gz\tSRR5280731_2.fastq.gz\tSRR5280747_2.fastq.gz\n",
      "SRR5280716_1.fastq.gz\tSRR5280732_1.fastq.gz\tSRR5280748_1.fastq.gz\n",
      "SRR5280716_2.fastq.gz\tSRR5280732_2.fastq.gz\tSRR5280748_2.fastq.gz\n",
      "SRR5280717_1.fastq.gz\tSRR5280733_1.fastq.gz\tSRR5280749_1.fastq.gz\n",
      "SRR5280717_2.fastq.gz\tSRR5280733_2.fastq.gz\tSRR5280749_2.fastq.gz\n",
      "SRR5280718_1.fastq.gz\tSRR5280734_1.fastq.gz\tSRR5280750_1.fastq.gz\n",
      "SRR5280718_2.fastq.gz\tSRR5280734_2.fastq.gz\tSRR5280750_2.fastq.gz\n",
      "SRR5280719_1.fastq.gz\tSRR5280735_1.fastq.gz\tSRR5280751_1.fastq.gz\n",
      "SRR5280719_2.fastq.gz\tSRR5280735_2.fastq.gz\tSRR5280751_2.fastq.gz\n",
      "SRR5280720_1.fastq.gz\tSRR5280736_1.fastq.gz\tSRR5280752_1.fastq.gz\n",
      "SRR5280720_2.fastq.gz\tSRR5280736_2.fastq.gz\tSRR5280752_2.fastq.gz\n",
      "SRR5280721_1.fastq.gz\tSRR5280737_1.fastq.gz\tSRR5280753_1.fastq.gz\n",
      "SRR5280721_2.fastq.gz\tSRR5280737_2.fastq.gz\tSRR5280753_2.fastq.gz\n",
      "SRR5280722_1.fastq.gz\tSRR5280738_1.fastq.gz\tSRR5280754_1.fastq.gz\n",
      "SRR5280722_2.fastq.gz\tSRR5280738_2.fastq.gz\tSRR5280754_2.fastq.gz\n",
      "SRR5280723_1.fastq.gz\tSRR5280739_1.fastq.gz\tSRR5280755_1.fastq.gz\n",
      "SRR5280723_2.fastq.gz\tSRR5280739_2.fastq.gz\tSRR5280755_2.fastq.gz\n",
      "SRR5280724_1.fastq.gz\tSRR5280740_1.fastq.gz\n",
      "SRR5280724_2.fastq.gz\tSRR5280740_2.fastq.gz\n"
     ]
    }
   ],
   "source": [
    "ls"
   ]
  },
  {
   "cell_type": "markdown",
   "metadata": {},
   "source": [
    "Next I just want to test that the files can go into QIIME2.\n",
    "\n",
    "\n",
    "In order to get the files into QIIME2, we are going to use the [manifest format](https://docs.qiime2.org/2020.2/tutorials/importing/). That requires making a manifest file which directs QIIME to the correct fastq files for each sample. And then the quickest way to make the manifest file is manually (since you likely don't have that many samples). The next few steps are helpful in getting the data to put in the manifest file:"
   ]
  },
  {
   "cell_type": "markdown",
   "metadata": {},
   "source": [
    "Use `ls` to get a list of all files which end in `_1.fastq.gz` (forward reads) and their directory locations (with `$PWD`)"
   ]
  },
  {
   "cell_type": "code",
   "execution_count": 10,
   "metadata": {},
   "outputs": [
    {
     "name": "stdout",
     "output_type": "stream",
     "text": [
      "/Volumes/MyPassport/Molloy_LargeFiles/Semesters/03_Summer2020/CSTEP/Lenee/BioProjectPRJNA376395/raw_data/SRR5280709_1.fastq.gz\n",
      "/Volumes/MyPassport/Molloy_LargeFiles/Semesters/03_Summer2020/CSTEP/Lenee/BioProjectPRJNA376395/raw_data/SRR5280710_1.fastq.gz\n",
      "/Volumes/MyPassport/Molloy_LargeFiles/Semesters/03_Summer2020/CSTEP/Lenee/BioProjectPRJNA376395/raw_data/SRR5280711_1.fastq.gz\n",
      "/Volumes/MyPassport/Molloy_LargeFiles/Semesters/03_Summer2020/CSTEP/Lenee/BioProjectPRJNA376395/raw_data/SRR5280712_1.fastq.gz\n",
      "/Volumes/MyPassport/Molloy_LargeFiles/Semesters/03_Summer2020/CSTEP/Lenee/BioProjectPRJNA376395/raw_data/SRR5280713_1.fastq.gz\n",
      "/Volumes/MyPassport/Molloy_LargeFiles/Semesters/03_Summer2020/CSTEP/Lenee/BioProjectPRJNA376395/raw_data/SRR5280714_1.fastq.gz\n",
      "/Volumes/MyPassport/Molloy_LargeFiles/Semesters/03_Summer2020/CSTEP/Lenee/BioProjectPRJNA376395/raw_data/SRR5280715_1.fastq.gz\n",
      "/Volumes/MyPassport/Molloy_LargeFiles/Semesters/03_Summer2020/CSTEP/Lenee/BioProjectPRJNA376395/raw_data/SRR5280716_1.fastq.gz\n",
      "/Volumes/MyPassport/Molloy_LargeFiles/Semesters/03_Summer2020/CSTEP/Lenee/BioProjectPRJNA376395/raw_data/SRR5280717_1.fastq.gz\n",
      "/Volumes/MyPassport/Molloy_LargeFiles/Semesters/03_Summer2020/CSTEP/Lenee/BioProjectPRJNA376395/raw_data/SRR5280718_1.fastq.gz\n",
      "/Volumes/MyPassport/Molloy_LargeFiles/Semesters/03_Summer2020/CSTEP/Lenee/BioProjectPRJNA376395/raw_data/SRR5280719_1.fastq.gz\n",
      "/Volumes/MyPassport/Molloy_LargeFiles/Semesters/03_Summer2020/CSTEP/Lenee/BioProjectPRJNA376395/raw_data/SRR5280720_1.fastq.gz\n",
      "/Volumes/MyPassport/Molloy_LargeFiles/Semesters/03_Summer2020/CSTEP/Lenee/BioProjectPRJNA376395/raw_data/SRR5280721_1.fastq.gz\n",
      "/Volumes/MyPassport/Molloy_LargeFiles/Semesters/03_Summer2020/CSTEP/Lenee/BioProjectPRJNA376395/raw_data/SRR5280722_1.fastq.gz\n",
      "/Volumes/MyPassport/Molloy_LargeFiles/Semesters/03_Summer2020/CSTEP/Lenee/BioProjectPRJNA376395/raw_data/SRR5280723_1.fastq.gz\n",
      "/Volumes/MyPassport/Molloy_LargeFiles/Semesters/03_Summer2020/CSTEP/Lenee/BioProjectPRJNA376395/raw_data/SRR5280724_1.fastq.gz\n",
      "/Volumes/MyPassport/Molloy_LargeFiles/Semesters/03_Summer2020/CSTEP/Lenee/BioProjectPRJNA376395/raw_data/SRR5280725_1.fastq.gz\n",
      "/Volumes/MyPassport/Molloy_LargeFiles/Semesters/03_Summer2020/CSTEP/Lenee/BioProjectPRJNA376395/raw_data/SRR5280726_1.fastq.gz\n",
      "/Volumes/MyPassport/Molloy_LargeFiles/Semesters/03_Summer2020/CSTEP/Lenee/BioProjectPRJNA376395/raw_data/SRR5280727_1.fastq.gz\n",
      "/Volumes/MyPassport/Molloy_LargeFiles/Semesters/03_Summer2020/CSTEP/Lenee/BioProjectPRJNA376395/raw_data/SRR5280728_1.fastq.gz\n",
      "/Volumes/MyPassport/Molloy_LargeFiles/Semesters/03_Summer2020/CSTEP/Lenee/BioProjectPRJNA376395/raw_data/SRR5280729_1.fastq.gz\n",
      "/Volumes/MyPassport/Molloy_LargeFiles/Semesters/03_Summer2020/CSTEP/Lenee/BioProjectPRJNA376395/raw_data/SRR5280730_1.fastq.gz\n",
      "/Volumes/MyPassport/Molloy_LargeFiles/Semesters/03_Summer2020/CSTEP/Lenee/BioProjectPRJNA376395/raw_data/SRR5280731_1.fastq.gz\n",
      "/Volumes/MyPassport/Molloy_LargeFiles/Semesters/03_Summer2020/CSTEP/Lenee/BioProjectPRJNA376395/raw_data/SRR5280732_1.fastq.gz\n",
      "/Volumes/MyPassport/Molloy_LargeFiles/Semesters/03_Summer2020/CSTEP/Lenee/BioProjectPRJNA376395/raw_data/SRR5280733_1.fastq.gz\n",
      "/Volumes/MyPassport/Molloy_LargeFiles/Semesters/03_Summer2020/CSTEP/Lenee/BioProjectPRJNA376395/raw_data/SRR5280734_1.fastq.gz\n",
      "/Volumes/MyPassport/Molloy_LargeFiles/Semesters/03_Summer2020/CSTEP/Lenee/BioProjectPRJNA376395/raw_data/SRR5280735_1.fastq.gz\n",
      "/Volumes/MyPassport/Molloy_LargeFiles/Semesters/03_Summer2020/CSTEP/Lenee/BioProjectPRJNA376395/raw_data/SRR5280736_1.fastq.gz\n",
      "/Volumes/MyPassport/Molloy_LargeFiles/Semesters/03_Summer2020/CSTEP/Lenee/BioProjectPRJNA376395/raw_data/SRR5280737_1.fastq.gz\n",
      "/Volumes/MyPassport/Molloy_LargeFiles/Semesters/03_Summer2020/CSTEP/Lenee/BioProjectPRJNA376395/raw_data/SRR5280738_1.fastq.gz\n",
      "/Volumes/MyPassport/Molloy_LargeFiles/Semesters/03_Summer2020/CSTEP/Lenee/BioProjectPRJNA376395/raw_data/SRR5280739_1.fastq.gz\n",
      "/Volumes/MyPassport/Molloy_LargeFiles/Semesters/03_Summer2020/CSTEP/Lenee/BioProjectPRJNA376395/raw_data/SRR5280740_1.fastq.gz\n",
      "/Volumes/MyPassport/Molloy_LargeFiles/Semesters/03_Summer2020/CSTEP/Lenee/BioProjectPRJNA376395/raw_data/SRR5280741_1.fastq.gz\n",
      "/Volumes/MyPassport/Molloy_LargeFiles/Semesters/03_Summer2020/CSTEP/Lenee/BioProjectPRJNA376395/raw_data/SRR5280742_1.fastq.gz\n",
      "/Volumes/MyPassport/Molloy_LargeFiles/Semesters/03_Summer2020/CSTEP/Lenee/BioProjectPRJNA376395/raw_data/SRR5280743_1.fastq.gz\n",
      "/Volumes/MyPassport/Molloy_LargeFiles/Semesters/03_Summer2020/CSTEP/Lenee/BioProjectPRJNA376395/raw_data/SRR5280744_1.fastq.gz\n",
      "/Volumes/MyPassport/Molloy_LargeFiles/Semesters/03_Summer2020/CSTEP/Lenee/BioProjectPRJNA376395/raw_data/SRR5280745_1.fastq.gz\n",
      "/Volumes/MyPassport/Molloy_LargeFiles/Semesters/03_Summer2020/CSTEP/Lenee/BioProjectPRJNA376395/raw_data/SRR5280746_1.fastq.gz\n",
      "/Volumes/MyPassport/Molloy_LargeFiles/Semesters/03_Summer2020/CSTEP/Lenee/BioProjectPRJNA376395/raw_data/SRR5280747_1.fastq.gz\n",
      "/Volumes/MyPassport/Molloy_LargeFiles/Semesters/03_Summer2020/CSTEP/Lenee/BioProjectPRJNA376395/raw_data/SRR5280748_1.fastq.gz\n",
      "/Volumes/MyPassport/Molloy_LargeFiles/Semesters/03_Summer2020/CSTEP/Lenee/BioProjectPRJNA376395/raw_data/SRR5280749_1.fastq.gz\n",
      "/Volumes/MyPassport/Molloy_LargeFiles/Semesters/03_Summer2020/CSTEP/Lenee/BioProjectPRJNA376395/raw_data/SRR5280750_1.fastq.gz\n",
      "/Volumes/MyPassport/Molloy_LargeFiles/Semesters/03_Summer2020/CSTEP/Lenee/BioProjectPRJNA376395/raw_data/SRR5280751_1.fastq.gz\n",
      "/Volumes/MyPassport/Molloy_LargeFiles/Semesters/03_Summer2020/CSTEP/Lenee/BioProjectPRJNA376395/raw_data/SRR5280752_1.fastq.gz\n",
      "/Volumes/MyPassport/Molloy_LargeFiles/Semesters/03_Summer2020/CSTEP/Lenee/BioProjectPRJNA376395/raw_data/SRR5280753_1.fastq.gz\n",
      "/Volumes/MyPassport/Molloy_LargeFiles/Semesters/03_Summer2020/CSTEP/Lenee/BioProjectPRJNA376395/raw_data/SRR5280754_1.fastq.gz\n",
      "/Volumes/MyPassport/Molloy_LargeFiles/Semesters/03_Summer2020/CSTEP/Lenee/BioProjectPRJNA376395/raw_data/SRR5280755_1.fastq.gz\n"
     ]
    }
   ],
   "source": [
    "ls \"$PWD\"/*_1.fastq.gz* "
   ]
  },
  {
   "cell_type": "markdown",
   "metadata": {},
   "source": [
    "Then copy the above into a column in Excel or GoogleSheets"
   ]
  },
  {
   "cell_type": "markdown",
   "metadata": {},
   "source": [
    "Do the same for the reverse reads and copy these into another column. Do a spotcheck to make sure all forward and reverse reads are matched in the same row"
   ]
  },
  {
   "cell_type": "code",
   "execution_count": 11,
   "metadata": {},
   "outputs": [
    {
     "name": "stdout",
     "output_type": "stream",
     "text": [
      "/Volumes/MyPassport/Molloy_LargeFiles/Semesters/03_Summer2020/CSTEP/Lenee/BioProjectPRJNA376395/raw_data/SRR5280709_2.fastq.gz\n",
      "/Volumes/MyPassport/Molloy_LargeFiles/Semesters/03_Summer2020/CSTEP/Lenee/BioProjectPRJNA376395/raw_data/SRR5280710_2.fastq.gz\n",
      "/Volumes/MyPassport/Molloy_LargeFiles/Semesters/03_Summer2020/CSTEP/Lenee/BioProjectPRJNA376395/raw_data/SRR5280711_2.fastq.gz\n",
      "/Volumes/MyPassport/Molloy_LargeFiles/Semesters/03_Summer2020/CSTEP/Lenee/BioProjectPRJNA376395/raw_data/SRR5280712_2.fastq.gz\n",
      "/Volumes/MyPassport/Molloy_LargeFiles/Semesters/03_Summer2020/CSTEP/Lenee/BioProjectPRJNA376395/raw_data/SRR5280713_2.fastq.gz\n",
      "/Volumes/MyPassport/Molloy_LargeFiles/Semesters/03_Summer2020/CSTEP/Lenee/BioProjectPRJNA376395/raw_data/SRR5280714_2.fastq.gz\n",
      "/Volumes/MyPassport/Molloy_LargeFiles/Semesters/03_Summer2020/CSTEP/Lenee/BioProjectPRJNA376395/raw_data/SRR5280715_2.fastq.gz\n",
      "/Volumes/MyPassport/Molloy_LargeFiles/Semesters/03_Summer2020/CSTEP/Lenee/BioProjectPRJNA376395/raw_data/SRR5280716_2.fastq.gz\n",
      "/Volumes/MyPassport/Molloy_LargeFiles/Semesters/03_Summer2020/CSTEP/Lenee/BioProjectPRJNA376395/raw_data/SRR5280717_2.fastq.gz\n",
      "/Volumes/MyPassport/Molloy_LargeFiles/Semesters/03_Summer2020/CSTEP/Lenee/BioProjectPRJNA376395/raw_data/SRR5280718_2.fastq.gz\n",
      "/Volumes/MyPassport/Molloy_LargeFiles/Semesters/03_Summer2020/CSTEP/Lenee/BioProjectPRJNA376395/raw_data/SRR5280719_2.fastq.gz\n",
      "/Volumes/MyPassport/Molloy_LargeFiles/Semesters/03_Summer2020/CSTEP/Lenee/BioProjectPRJNA376395/raw_data/SRR5280720_2.fastq.gz\n",
      "/Volumes/MyPassport/Molloy_LargeFiles/Semesters/03_Summer2020/CSTEP/Lenee/BioProjectPRJNA376395/raw_data/SRR5280721_2.fastq.gz\n",
      "/Volumes/MyPassport/Molloy_LargeFiles/Semesters/03_Summer2020/CSTEP/Lenee/BioProjectPRJNA376395/raw_data/SRR5280722_2.fastq.gz\n",
      "/Volumes/MyPassport/Molloy_LargeFiles/Semesters/03_Summer2020/CSTEP/Lenee/BioProjectPRJNA376395/raw_data/SRR5280723_2.fastq.gz\n",
      "/Volumes/MyPassport/Molloy_LargeFiles/Semesters/03_Summer2020/CSTEP/Lenee/BioProjectPRJNA376395/raw_data/SRR5280724_2.fastq.gz\n",
      "/Volumes/MyPassport/Molloy_LargeFiles/Semesters/03_Summer2020/CSTEP/Lenee/BioProjectPRJNA376395/raw_data/SRR5280725_2.fastq.gz\n",
      "/Volumes/MyPassport/Molloy_LargeFiles/Semesters/03_Summer2020/CSTEP/Lenee/BioProjectPRJNA376395/raw_data/SRR5280726_2.fastq.gz\n",
      "/Volumes/MyPassport/Molloy_LargeFiles/Semesters/03_Summer2020/CSTEP/Lenee/BioProjectPRJNA376395/raw_data/SRR5280727_2.fastq.gz\n",
      "/Volumes/MyPassport/Molloy_LargeFiles/Semesters/03_Summer2020/CSTEP/Lenee/BioProjectPRJNA376395/raw_data/SRR5280728_2.fastq.gz\n",
      "/Volumes/MyPassport/Molloy_LargeFiles/Semesters/03_Summer2020/CSTEP/Lenee/BioProjectPRJNA376395/raw_data/SRR5280729_2.fastq.gz\n",
      "/Volumes/MyPassport/Molloy_LargeFiles/Semesters/03_Summer2020/CSTEP/Lenee/BioProjectPRJNA376395/raw_data/SRR5280730_2.fastq.gz\n",
      "/Volumes/MyPassport/Molloy_LargeFiles/Semesters/03_Summer2020/CSTEP/Lenee/BioProjectPRJNA376395/raw_data/SRR5280731_2.fastq.gz\n",
      "/Volumes/MyPassport/Molloy_LargeFiles/Semesters/03_Summer2020/CSTEP/Lenee/BioProjectPRJNA376395/raw_data/SRR5280732_2.fastq.gz\n",
      "/Volumes/MyPassport/Molloy_LargeFiles/Semesters/03_Summer2020/CSTEP/Lenee/BioProjectPRJNA376395/raw_data/SRR5280733_2.fastq.gz\n",
      "/Volumes/MyPassport/Molloy_LargeFiles/Semesters/03_Summer2020/CSTEP/Lenee/BioProjectPRJNA376395/raw_data/SRR5280734_2.fastq.gz\n",
      "/Volumes/MyPassport/Molloy_LargeFiles/Semesters/03_Summer2020/CSTEP/Lenee/BioProjectPRJNA376395/raw_data/SRR5280735_2.fastq.gz\n",
      "/Volumes/MyPassport/Molloy_LargeFiles/Semesters/03_Summer2020/CSTEP/Lenee/BioProjectPRJNA376395/raw_data/SRR5280736_2.fastq.gz\n",
      "/Volumes/MyPassport/Molloy_LargeFiles/Semesters/03_Summer2020/CSTEP/Lenee/BioProjectPRJNA376395/raw_data/SRR5280737_2.fastq.gz\n",
      "/Volumes/MyPassport/Molloy_LargeFiles/Semesters/03_Summer2020/CSTEP/Lenee/BioProjectPRJNA376395/raw_data/SRR5280738_2.fastq.gz\n",
      "/Volumes/MyPassport/Molloy_LargeFiles/Semesters/03_Summer2020/CSTEP/Lenee/BioProjectPRJNA376395/raw_data/SRR5280739_2.fastq.gz\n",
      "/Volumes/MyPassport/Molloy_LargeFiles/Semesters/03_Summer2020/CSTEP/Lenee/BioProjectPRJNA376395/raw_data/SRR5280740_2.fastq.gz\n",
      "/Volumes/MyPassport/Molloy_LargeFiles/Semesters/03_Summer2020/CSTEP/Lenee/BioProjectPRJNA376395/raw_data/SRR5280741_2.fastq.gz\n",
      "/Volumes/MyPassport/Molloy_LargeFiles/Semesters/03_Summer2020/CSTEP/Lenee/BioProjectPRJNA376395/raw_data/SRR5280742_2.fastq.gz\n",
      "/Volumes/MyPassport/Molloy_LargeFiles/Semesters/03_Summer2020/CSTEP/Lenee/BioProjectPRJNA376395/raw_data/SRR5280743_2.fastq.gz\n",
      "/Volumes/MyPassport/Molloy_LargeFiles/Semesters/03_Summer2020/CSTEP/Lenee/BioProjectPRJNA376395/raw_data/SRR5280744_2.fastq.gz\n",
      "/Volumes/MyPassport/Molloy_LargeFiles/Semesters/03_Summer2020/CSTEP/Lenee/BioProjectPRJNA376395/raw_data/SRR5280745_2.fastq.gz\n",
      "/Volumes/MyPassport/Molloy_LargeFiles/Semesters/03_Summer2020/CSTEP/Lenee/BioProjectPRJNA376395/raw_data/SRR5280746_2.fastq.gz\n",
      "/Volumes/MyPassport/Molloy_LargeFiles/Semesters/03_Summer2020/CSTEP/Lenee/BioProjectPRJNA376395/raw_data/SRR5280747_2.fastq.gz\n",
      "/Volumes/MyPassport/Molloy_LargeFiles/Semesters/03_Summer2020/CSTEP/Lenee/BioProjectPRJNA376395/raw_data/SRR5280748_2.fastq.gz\n",
      "/Volumes/MyPassport/Molloy_LargeFiles/Semesters/03_Summer2020/CSTEP/Lenee/BioProjectPRJNA376395/raw_data/SRR5280749_2.fastq.gz\n",
      "/Volumes/MyPassport/Molloy_LargeFiles/Semesters/03_Summer2020/CSTEP/Lenee/BioProjectPRJNA376395/raw_data/SRR5280750_2.fastq.gz\n",
      "/Volumes/MyPassport/Molloy_LargeFiles/Semesters/03_Summer2020/CSTEP/Lenee/BioProjectPRJNA376395/raw_data/SRR5280751_2.fastq.gz\n",
      "/Volumes/MyPassport/Molloy_LargeFiles/Semesters/03_Summer2020/CSTEP/Lenee/BioProjectPRJNA376395/raw_data/SRR5280752_2.fastq.gz\n",
      "/Volumes/MyPassport/Molloy_LargeFiles/Semesters/03_Summer2020/CSTEP/Lenee/BioProjectPRJNA376395/raw_data/SRR5280753_2.fastq.gz\n",
      "/Volumes/MyPassport/Molloy_LargeFiles/Semesters/03_Summer2020/CSTEP/Lenee/BioProjectPRJNA376395/raw_data/SRR5280754_2.fastq.gz\n",
      "/Volumes/MyPassport/Molloy_LargeFiles/Semesters/03_Summer2020/CSTEP/Lenee/BioProjectPRJNA376395/raw_data/SRR5280755_2.fastq.gz\n"
     ]
    }
   ],
   "source": [
    "ls \"$PWD\"/*_2.fastq.gz*"
   ]
  },
  {
   "cell_type": "markdown",
   "metadata": {},
   "source": [
    "Next, take a look at the SraRunTable (from BioProject page, Click SRA Experiments> Click Send results to Run selector> Select all SRA experiments in table> In 'Select' Click Metadata under Total> Download)"
   ]
  },
  {
   "cell_type": "markdown",
   "metadata": {},
   "source": [
    "Look for sample IDs from the SraRunTable. You want to grab these and paste them into the manifest file, while making sure you are matching the correct SRA accession number to the correct sample-id (they SHOULD be in the same order but double check.)\n",
    "\n",
    "In my case, the sample-ids were listed under `LibraryName`.\n",
    "\n",
    "Put in column names `sample-id`, `forward-absolute-filepath`, and `reverse-absolute-filepath`.\n",
    "\n",
    "At the end, your manifest file should look something like this in Excel:\n",
    "\n",
    "\n",
    "<img src=\"images/manifestfileexample.png\">\n"
   ]
  },
  {
   "cell_type": "markdown",
   "metadata": {},
   "source": [
    "Save the above file as a tab-delimited `.tsv`. NOTE: you may have to save as a `.txt` tab-delimited file then manually change the extension from `.txt` to `.tsv`."
   ]
  },
  {
   "cell_type": "markdown",
   "metadata": {},
   "source": [
    "Next we open QIIME and get ready to import as a QIIME object"
   ]
  },
  {
   "cell_type": "code",
   "execution_count": 12,
   "metadata": {},
   "outputs": [
    {
     "name": "stdout",
     "output_type": "stream",
     "text": [
      "(qiime2-2020.2) "
     ]
    },
    {
     "ename": "",
     "evalue": "1",
     "output_type": "error",
     "traceback": []
    }
   ],
   "source": [
    "source activate qiime2-2020.2"
   ]
  },
  {
   "cell_type": "code",
   "execution_count": 13,
   "metadata": {},
   "outputs": [
    {
     "name": "stdout",
     "output_type": "stream",
     "text": [
      "\u001b[32mSystem versions\u001b[0m\n",
      "Python version: 3.6.7\n",
      "QIIME 2 release: 2020.2\n",
      "QIIME 2 version: 2020.2.0\n",
      "q2cli version: 2020.2.0\n",
      "\u001b[32m\n",
      "Installed plugins\u001b[0m\n",
      "alignment: 2020.2.0\n",
      "composition: 2020.2.0\n",
      "cutadapt: 2020.2.0\n",
      "dada2: 2020.2.0\n",
      "deblur: 2020.2.0\n",
      "demux: 2020.2.0\n",
      "diversity: 2020.2.0\n",
      "emperor: 2020.2.0\n",
      "feature-classifier: 2020.2.0\n",
      "feature-table: 2020.2.0\n",
      "fragment-insertion: 2020.2.0\n",
      "gneiss: 2020.2.0\n",
      "longitudinal: 2020.2.0\n",
      "metadata: 2020.2.0\n",
      "phylogeny: 2020.2.0\n",
      "quality-control: 2020.2.0\n",
      "quality-filter: 2020.2.0\n",
      "sample-classifier: 2020.2.0\n",
      "taxa: 2020.2.0\n",
      "types: 2020.2.0\n",
      "vsearch: 2020.2.0\n",
      "\u001b[32m\n",
      "Application config directory\u001b[0m\n",
      "/opt/anaconda3/envs/qiime2-2020.2/var/q2cli\u001b[0m\n",
      "\u001b[32m\n",
      "Getting help\u001b[0m\n",
      "To get help with QIIME 2, visit https://qiime2.org\u001b[0m\n",
      "(qiime2-2020.2) "
     ]
    },
    {
     "ename": "",
     "evalue": "1",
     "output_type": "error",
     "traceback": []
    }
   ],
   "source": [
    "qiime info"
   ]
  },
  {
   "cell_type": "markdown",
   "metadata": {},
   "source": [
    "If you look at the documentation about the manifest files again, you'll see there's a few options here. First, we have a F and R read for each sample, so we definitely have paired-end data. Second, we have to know which \"Phred\" to use...\n",
    "\n",
    "Phred is essentially a code for the quality of each base pair in the fastq file. Each bp is associated with a letter or symbol that correpsonds to a quality score, from 1 to 43 (the code is explained [here](https://www.drive5.com/usearch/manual/quality_score.html). This is  what QIIME reads later when we look at quality profiles. \n",
    "\n",
    "There are two Phred \"codes\", the older one, Phred64, and the newer one, Phred33. You can take a peak at a fastq file to be sure. If there are a lot of symbols everywhere, like this:\n",
    "<img src=\"images/PHRED33example.png\">\n",
    "\n",
    "\n",
    "Then you have Phred33. The Phred64 code is mostly letters.\n",
    "\n",
    "**NOTE**, Lenee, this looks like phred33\n",
    "\n",
    "So let's tell QIIME we have paired end reads with PHRED33 scores when we import, and direct it to our manifest file:"
   ]
  },
  {
   "cell_type": "code",
   "execution_count": 14,
   "metadata": {},
   "outputs": [
    {
     "name": "stdout",
     "output_type": "stream",
     "text": [
      "(qiime2-2020.2) "
     ]
    },
    {
     "ename": "",
     "evalue": "1",
     "output_type": "error",
     "traceback": []
    }
   ],
   "source": [
    "cd .."
   ]
  },
  {
   "cell_type": "code",
   "execution_count": 15,
   "metadata": {},
   "outputs": [
    {
     "name": "stdout",
     "output_type": "stream",
     "text": [
      "PRJNA376395_biosample_metadata.txt\tSraRunTable.txt\n",
      "PRJNA376395_manifestfile.tsv\t\timages\n",
      "SRA_into_QIIME_BioProjPRJNA376395.ipynb\traw_data\n",
      "SraAccList.txt\n",
      "(qiime2-2020.2) "
     ]
    },
    {
     "ename": "",
     "evalue": "1",
     "output_type": "error",
     "traceback": []
    }
   ],
   "source": [
    "ls"
   ]
  },
  {
   "cell_type": "code",
   "execution_count": 18,
   "metadata": {},
   "outputs": [
    {
     "name": "stdout",
     "output_type": "stream",
     "text": [
      "\u001b[32mImported PRJNA376395_manifestfile.tsv as PairedEndFastqManifestPhred33V2 to paired-end-demux.qza\u001b[0m\n",
      "(qiime2-2020.2) "
     ]
    },
    {
     "ename": "",
     "evalue": "1",
     "output_type": "error",
     "traceback": []
    }
   ],
   "source": [
    "qiime tools import \\\n",
    "  --type 'SampleData[PairedEndSequencesWithQuality]' \\\n",
    "  --input-path PRJNA376395_manifestfile.tsv \\\n",
    "  --output-path paired-end-demux.qza \\\n",
    "  --input-format PairedEndFastqManifestPhred33V2"
   ]
  },
  {
   "cell_type": "markdown",
   "metadata": {},
   "source": [
    "That works! I will include the .qza file in the Cyverse folder so you can start after the Import step, if you want."
   ]
  },
  {
   "cell_type": "code",
   "execution_count": null,
   "metadata": {},
   "outputs": [],
   "source": []
  }
 ],
 "metadata": {
  "kernelspec": {
   "display_name": "Bash",
   "language": "bash",
   "name": "bash"
  },
  "language_info": {
   "codemirror_mode": "shell",
   "file_extension": ".sh",
   "mimetype": "text/x-sh",
   "name": "bash"
  }
 },
 "nbformat": 4,
 "nbformat_minor": 4
}
